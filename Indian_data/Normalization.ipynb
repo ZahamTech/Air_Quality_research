{
 "cells": [
  {
   "cell_type": "code",
   "execution_count": 6,
   "id": "73561848-e02a-416f-8f9f-66ba125ced15",
   "metadata": {},
   "outputs": [
    {
     "name": "stdout",
     "output_type": "stream",
     "text": [
      "Normalized data saved to 'ind_normalize.csv'\n"
     ]
    }
   ],
   "source": [
    "import pandas as pd\n",
    "from sklearn.preprocessing import StandardScaler\n",
    "\n",
    "# Load dataset\n",
    "df = pd.read_csv(\"ind_day.csv\")\n",
    "\n",
    "# Drop non-numeric columns (adjust based on actual dataset columns)\n",
    "numeric_features = df.drop([\"City_station\", \"Date\", \"AQI_Category\",\"AQI\"], axis=1)\n",
    "\n",
    "# Initialize Min-Max Scaler\n",
    "scaler = StandardScaler()\n",
    "\n",
    "# Normalize the numeric data\n",
    "normalized_data = scaler.fit_transform(numeric_features)\n",
    "\n",
    "# Convert normalized data back to a DataFrame\n",
    "normalized_df = pd.DataFrame(normalized_data, columns=numeric_features.columns)\n",
    "\n",
    "# Concatenate with non-numeric data if necessary\n",
    "final_df = pd.concat([df[[\"City_station\", \"Date\"]], normalized_df, df[[\"AQI\", \"AQI_Category\"]]], axis=1)\n",
    "\n",
    "# Save the normalized data to a CSV file\n",
    "final_df.to_csv(\"ind_normalize_SS.csv\", index=False)\n",
    "\n",
    "print(\"Normalized data saved to 'ind_normalize.csv'\")"
   ]
  },
  {
   "cell_type": "code",
   "execution_count": null,
   "id": "7ae7d4ec-7b91-4950-8545-e1a7f647f97f",
   "metadata": {},
   "outputs": [],
   "source": []
  }
 ],
 "metadata": {
  "kernelspec": {
   "display_name": "Python 3 (ipykernel)",
   "language": "python",
   "name": "python3"
  },
  "language_info": {
   "codemirror_mode": {
    "name": "ipython",
    "version": 3
   },
   "file_extension": ".py",
   "mimetype": "text/x-python",
   "name": "python",
   "nbconvert_exporter": "python",
   "pygments_lexer": "ipython3",
   "version": "3.11.9"
  }
 },
 "nbformat": 4,
 "nbformat_minor": 5
}
