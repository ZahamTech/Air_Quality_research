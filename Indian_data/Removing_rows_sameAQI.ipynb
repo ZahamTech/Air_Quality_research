{
 "cells": [
  {
   "cell_type": "code",
   "execution_count": 3,
   "id": "1efbf025-72e7-428f-a250-1ea61a37100b",
   "metadata": {},
   "outputs": [
    {
     "name": "stderr",
     "output_type": "stream",
     "text": [
      "C:\\Users\\PMLS\\AppData\\Local\\Temp\\ipykernel_20708\\1994891033.py:3: DtypeWarning: Columns (2) have mixed types. Specify dtype option on import or set low_memory=False.\n",
      "  df = pd.read_csv('data_Imputee.csv')\n"
     ]
    },
    {
     "name": "stdout",
     "output_type": "stream",
     "text": [
      "(1048575, 10)\n",
      "(1020424, 10)\n",
      "(841144, 10)\n"
     ]
    }
   ],
   "source": [
    "import pandas as pd\n",
    "\n",
    "df = pd.read_csv('data_Imputee.csv')\n",
    "print(df.shape)\n",
    "# Count the occurrences of each AQI value\n",
    "aqi_counts = df['aqi'].value_counts()\n",
    "\n",
    "# Filter out rows with AQI values that appear only once\n",
    "df = df[df['aqi'].isin(aqi_counts[aqi_counts > 1].index)]\n",
    "\n",
    "# Display the filtered DataFrame\n",
    "print(df.shape)\n",
    "\n",
    "columns_to_check = ['aqi', 'co', 'no2','so2','pm10','pm25','o3']\n",
    "\n",
    "# Keep rows where at least one column's value differs from the previous row\n",
    "df = df[(df[columns_to_check] != df[columns_to_check].shift()).any(axis=1)]\n",
    "\n",
    "# Display the filtered DataFrame\n",
    "print(df.shape)\n"
   ]
  },
  {
   "cell_type": "code",
   "execution_count": 4,
   "id": "b3197d36-fba9-4238-a987-463c0458115f",
   "metadata": {},
   "outputs": [],
   "source": [
    "df.to_csv('mycsv.csv')"
   ]
  },
  {
   "cell_type": "code",
   "execution_count": null,
   "id": "b1a6029f-6ae3-4904-8014-e5255f4230ec",
   "metadata": {},
   "outputs": [],
   "source": []
  }
 ],
 "metadata": {
  "kernelspec": {
   "display_name": "Python 3 (ipykernel)",
   "language": "python",
   "name": "python3"
  },
  "language_info": {
   "codemirror_mode": {
    "name": "ipython",
    "version": 3
   },
   "file_extension": ".py",
   "mimetype": "text/x-python",
   "name": "python",
   "nbconvert_exporter": "python",
   "pygments_lexer": "ipython3",
   "version": "3.11.9"
  }
 },
 "nbformat": 4,
 "nbformat_minor": 5
}
