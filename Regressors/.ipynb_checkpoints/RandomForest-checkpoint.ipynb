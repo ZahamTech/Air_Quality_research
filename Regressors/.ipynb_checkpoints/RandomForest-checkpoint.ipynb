{
 "cells": [
  {
   "cell_type": "markdown",
   "id": "b801492f-c2af-43bc-8ca9-4751a9b728b1",
   "metadata": {},
   "source": [
    "## Random Forest"
   ]
  },
  {
   "cell_type": "code",
   "execution_count": 1,
   "id": "bb9d7f9c-5c33-467d-a337-419c5017d0b1",
   "metadata": {},
   "outputs": [],
   "source": [
    "# Importing Necessary libraries\n",
    "import pandas as pd\n",
    "import numpy as np\n",
    "from sklearn.model_selection import train_test_split\n",
    "from sklearn.ensemble import RandomForestRegressor\n",
    "from sklearn.metrics import mean_squared_error, r2_score ,mean_absolute_error\n",
    "import matplotlib.pyplot as plt\n",
    "import seaborn as sns"
   ]
  },
  {
   "cell_type": "code",
   "execution_count": 2,
   "id": "d73e18b8-79ed-45a0-8a6f-33ada86799a8",
   "metadata": {},
   "outputs": [
    {
     "name": "stderr",
     "output_type": "stream",
     "text": [
      "C:\\Users\\PMLS\\AppData\\Local\\Temp\\ipykernel_42888\\3096670545.py:2: DtypeWarning: Columns (2) have mixed types. Specify dtype option on import or set low_memory=False.\n",
      "  df = pd.read_csv('appended_dataset.csv')\n"
     ]
    }
   ],
   "source": [
    "# Load dataset \n",
    "df = pd.read_csv('appended_dataset.csv')"
   ]
  },
  {
   "cell_type": "code",
   "execution_count": 7,
   "id": "029f01ce-eefa-4d9c-8571-45c02c8fb0d3",
   "metadata": {},
   "outputs": [],
   "source": [
    "# Select features (X) and target variable (y)\n",
    "X = df[['co', 'no2', 'o3', 'pm10', 'pm25', 'so2']]  # Feature columns\n",
    "y = df['aqi']  # Target variable (AQI)"
   ]
  },
  {
   "cell_type": "code",
   "execution_count": 8,
   "id": "1918bec7-4ea9-4f7a-82f7-816ea3312598",
   "metadata": {},
   "outputs": [],
   "source": [
    "# Split data into training and test sets\n",
    "X_train, X_test, y_train, y_test = train_test_split(X, y, test_size=0.2, random_state=42)"
   ]
  },
  {
   "cell_type": "code",
   "execution_count": 9,
   "id": "1b85ce32-b5fa-4ba8-8e19-b5a01e6cf9ba",
   "metadata": {},
   "outputs": [],
   "source": [
    "# Initialize the RandomForestRegressor model\n",
    "model = RandomForestRegressor(n_estimators=50, random_state=42)"
   ]
  },
  {
   "cell_type": "code",
   "execution_count": null,
   "id": "6586074e-0c14-4941-87f4-f98cd254767a",
   "metadata": {},
   "outputs": [],
   "source": [
    "# Train the model\n",
    "model.fit(X_train, y_train)"
   ]
  },
  {
   "cell_type": "code",
   "execution_count": null,
   "id": "14bfc118-178a-42dc-8b1c-3b68a67a5a2b",
   "metadata": {},
   "outputs": [],
   "source": [
    "# Make predictions\n",
    "y_pred = model.predict(X_test)"
   ]
  },
  {
   "cell_type": "code",
   "execution_count": null,
   "id": "c5d9cb3b-42fe-4ab0-a0e7-0a128a3b4e10",
   "metadata": {},
   "outputs": [],
   "source": [
    "# Evaluate the model\n",
    "mse = mean_squared_error(y_test, y_pred)\n",
    "rmse = mse ** 0.5\n",
    "r2 = r2_score(y_test, y_pred)\n",
    "mae = mean_absolute_error(y_test, y_pred)\n",
    "score = model.score(X_test, y_test)\n",
    "# Display the  results\n",
    "print(f'Root Mean Squared Error: {rmse}')\n",
    "print(f\"R-squared: {r2}\")\n",
    "print(f\"Score of Random Forest : {score*100}%\")\n",
    "print(f\"Mean Absolute Error: {mae}\")"
   ]
  },
  {
   "cell_type": "code",
   "execution_count": null,
   "id": "d413425c-5971-49e8-b062-e09a95b822f9",
   "metadata": {},
   "outputs": [],
   "source": [
    "# Plotting Actual vs Predicted AQI\n",
    "plt.figure(figsize=(6,3))\n",
    "plt.plot(y_test.values[:100], label='Actual AQI')\n",
    "plt.plot(y_pred[:100], label='Predicted AQI', linestyle='--')\n",
    "plt.title('Actual vs Predicted AQI')\n",
    "plt.xlabel('Samples')\n",
    "plt.ylabel('aqi')\n",
    "plt.legend()\n",
    "plt.show()"
   ]
  },
  {
   "cell_type": "code",
   "execution_count": null,
   "id": "d0492fcb-64dc-430c-b620-8eec36e02de3",
   "metadata": {},
   "outputs": [],
   "source": [
    "# Compute the correlation matrix\n",
    "correlation_matrix = df[['temp', 'co', 'no2', 'o3', 'pm10', 'pm25', 'so2', 'aqi']].corr()"
   ]
  },
  {
   "cell_type": "code",
   "execution_count": null,
   "id": "6f76e601-6c02-487d-95f2-1c1810e23e63",
   "metadata": {},
   "outputs": [],
   "source": [
    "# Print the correlation matrix\n",
    "# print(correlation_matrix)"
   ]
  },
  {
   "cell_type": "code",
   "execution_count": null,
   "id": "dbbe3648-bf8b-4240-a918-bf9b438217e8",
   "metadata": {},
   "outputs": [],
   "source": [
    "# Plot the correlation matrix\n",
    "plt.figure(figsize=(6, 4.5))"
   ]
  },
  {
   "cell_type": "code",
   "execution_count": null,
   "id": "55c175bb-d0f5-4464-9fec-10afa27c7f00",
   "metadata": {},
   "outputs": [],
   "source": [
    "# Use seaborn heatmap for better visualization\n",
    "sns.heatmap(correlation_matrix, annot=True, cmap='coolwarm', linewidths=0.5)\n",
    "# Adding title\n",
    "plt.title('Correlation Matrix of Features', fontsize=10)\n",
    "plt.figure(figsize=(6, 4.5))\n",
    "# Display the plot\n",
    "plt.show()"
   ]
  },
  {
   "cell_type": "code",
   "execution_count": null,
   "id": "35247426-39b3-41a1-8351-7436106bb78e",
   "metadata": {},
   "outputs": [],
   "source": []
  }
 ],
 "metadata": {
  "kernelspec": {
   "display_name": "Python 3 (ipykernel)",
   "language": "python",
   "name": "python3"
  },
  "language_info": {
   "codemirror_mode": {
    "name": "ipython",
    "version": 3
   },
   "file_extension": ".py",
   "mimetype": "text/x-python",
   "name": "python",
   "nbconvert_exporter": "python",
   "pygments_lexer": "ipython3",
   "version": "3.11.9"
  }
 },
 "nbformat": 4,
 "nbformat_minor": 5
}
