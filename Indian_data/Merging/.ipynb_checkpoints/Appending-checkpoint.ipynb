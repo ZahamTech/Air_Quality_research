{
 "cells": [
  {
   "cell_type": "code",
   "execution_count": 3,
   "id": "1e624f39-71b4-400e-9e8f-fad9160c8656",
   "metadata": {},
   "outputs": [
    {
     "name": "stdout",
     "output_type": "stream",
     "text": [
      "(68218, 11)\n",
      "(15000, 10)\n"
     ]
    },
    {
     "name": "stderr",
     "output_type": "stream",
     "text": [
      "C:\\Users\\PMLS\\AppData\\Local\\Temp\\ipykernel_58372\\3919380630.py:4: DtypeWarning: Columns (10) have mixed types. Specify dtype option on import or set low_memory=False.\n",
      "  df1 = pd.read_csv('new1.csv')\n"
     ]
    }
   ],
   "source": [
    "import pandas as pd\n",
    "\n",
    "# Load the datasets\n",
    "df1 = pd.read_csv('city_day_update.csv')\n",
    "df = pd.read_csv('station_day_update.csv')\n",
    "print(df1.shape) \n",
    "print(df.shape)"
   ]
  },
  {
   "cell_type": "code",
   "execution_count": 4,
   "id": "53535dff-7996-4fa6-883c-a3403e520ab7",
   "metadata": {},
   "outputs": [
    {
     "name": "stdout",
     "output_type": "stream",
     "text": [
      "   temp city_name country_code      co   no2    o3   pm10    pm25    so2  \\\n",
      "0  12.6    Gujrāt           PK  1339.8  76.0  10.7  491.7  347.67  238.0   \n",
      "1  11.5    Gujrāt           PK  1437.6  76.0   9.3  508.3  359.33  268.0   \n",
      "2  11.9    Gujrāt           PK  1535.5  76.0   8.0  525.0  371.00  298.0   \n",
      "3  12.2    Gujrāt           PK  1659.0  68.3   5.3  529.3  374.00  275.7   \n",
      "4  11.9    Gujrāt           PK  1782.5  60.7   2.7  533.7  377.00  253.3   \n",
      "\n",
      "          aqi Datetime  Unnamed: 0  \n",
      "0  257.971698      NaN         NaN  \n",
      "1  285.990566      NaN         NaN  \n",
      "2  327.653846      NaN         NaN  \n",
      "3  293.182075      NaN         NaN  \n",
      "4  272.261321      NaN         NaN  \n",
      "(83218, 12)\n"
     ]
    }
   ],
   "source": [
    "# Append the second dataset to the first\n",
    "appended_df = pd.concat([df1, df], ignore_index=True)\n",
    "# Display the result\n",
    "print(appended_df.head())\n",
    "print(appended_df.shape)  # Check the number of rows and columns after appending"
   ]
  },
  {
   "cell_type": "code",
   "execution_count": 6,
   "id": "471031d4-f71b-4287-a705-156e063b5a35",
   "metadata": {},
   "outputs": [],
   "source": [
    "appended_df.to_csv('new4.csv', index=False)"
   ]
  },
  {
   "cell_type": "code",
   "execution_count": null,
   "id": "80e87bb6-c776-430e-8edd-bd99a3d48b3b",
   "metadata": {},
   "outputs": [],
   "source": []
  }
 ],
 "metadata": {
  "kernelspec": {
   "display_name": "Python 3 (ipykernel)",
   "language": "python",
   "name": "python3"
  },
  "language_info": {
   "codemirror_mode": {
    "name": "ipython",
    "version": 3
   },
   "file_extension": ".py",
   "mimetype": "text/x-python",
   "name": "python",
   "nbconvert_exporter": "python",
   "pygments_lexer": "ipython3",
   "version": "3.11.9"
  }
 },
 "nbformat": 4,
 "nbformat_minor": 5
}
