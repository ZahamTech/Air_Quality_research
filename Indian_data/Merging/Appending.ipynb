{
 "cells": [
  {
   "cell_type": "code",
   "execution_count": 3,
   "id": "1e624f39-71b4-400e-9e8f-fad9160c8656",
   "metadata": {},
   "outputs": [
    {
     "name": "stdout",
     "output_type": "stream",
     "text": [
      "(22158, 9)\n",
      "(65620, 9)\n"
     ]
    }
   ],
   "source": [
    "import pandas as pd\n",
    "\n",
    "# Load the datasets\n",
    "df1 = pd.read_csv('city_day_update.csv')\n",
    "df = pd.read_csv('station_day_update.csv')\n",
    "print(df1.shape) \n",
    "print(df.shape)"
   ]
  },
  {
   "cell_type": "code",
   "execution_count": 4,
   "id": "53535dff-7996-4fa6-883c-a3403e520ab7",
   "metadata": {},
   "outputs": [
    {
     "name": "stdout",
     "output_type": "stream",
     "text": [
      "  City_station        Date  PM2.5    NO    NO2    NOx    CO    SO2      O3\n",
      "0        AP001  11/24/2017  71.36  1.75  20.65  12.40  0.10  10.76  109.26\n",
      "1        AP001  11/25/2017  81.40  1.44  20.50  12.08  0.12  15.24  127.09\n",
      "2        AP001  11/26/2017  78.32  1.26  26.00  14.85  0.14  26.96  117.44\n",
      "3        AP001  11/27/2017  88.76  6.60  30.85  21.77  0.11  33.59  111.81\n",
      "4        AP001  11/28/2017  64.18  2.56  28.07  17.01  0.09  19.00  138.18\n",
      "(87778, 9)\n"
     ]
    }
   ],
   "source": [
    "# Append the second dataset to the first\n",
    "appended_df = pd.concat([df, df1], ignore_index=True)\n",
    "# Display the result\n",
    "print(appended_df.head())\n",
    "print(appended_df.shape)  # Check the number of rows and columns after appending"
   ]
  },
  {
   "cell_type": "code",
   "execution_count": 6,
   "id": "471031d4-f71b-4287-a705-156e063b5a35",
   "metadata": {},
   "outputs": [],
   "source": [
    "appended_df.to_csv('ind_day.csv', index=False)\n"
   ]
  },
  {
   "cell_type": "code",
   "execution_count": null,
   "id": "80e87bb6-c776-430e-8edd-bd99a3d48b3b",
   "metadata": {},
   "outputs": [],
   "source": []
  }
 ],
 "metadata": {
  "kernelspec": {
   "display_name": "Python 3 (ipykernel)",
   "language": "python",
   "name": "python3"
  },
  "language_info": {
   "codemirror_mode": {
    "name": "ipython",
    "version": 3
   },
   "file_extension": ".py",
   "mimetype": "text/x-python",
   "name": "python",
   "nbconvert_exporter": "python",
   "pygments_lexer": "ipython3",
   "version": "3.11.9"
  }
 },
 "nbformat": 4,
 "nbformat_minor": 5
}
