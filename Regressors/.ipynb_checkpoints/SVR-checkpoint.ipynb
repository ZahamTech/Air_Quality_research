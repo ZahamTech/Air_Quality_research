{
 "cells": [
  {
   "cell_type": "markdown",
   "id": "978cfd2b-14f6-4a08-973e-613c44e7114e",
   "metadata": {},
   "source": [
    "## Support Vector Regressor\n"
   ]
  },
  {
   "cell_type": "code",
   "execution_count": 1,
   "id": "c19ce2c4-16a3-45dc-94d4-b2dfa6e7d38a",
   "metadata": {},
   "outputs": [],
   "source": [
    "# Import required libraries\n",
    "import pandas as pd\n",
    "import numpy as np\n",
    "from sklearn.model_selection import train_test_split\n",
    "from sklearn.svm import SVR\n",
    "from sklearn.metrics import mean_squared_error, r2_score ,mean_absolute_error\n",
    "import seaborn as sns\n",
    "import matplotlib.pyplot as plt"
   ]
  },
  {
   "cell_type": "code",
   "execution_count": 2,
   "id": "75886936-25d3-4bb7-9180-abfa1571c67c",
   "metadata": {},
   "outputs": [
    {
     "name": "stderr",
     "output_type": "stream",
     "text": [
      "C:\\Users\\PMLS\\AppData\\Local\\Temp\\ipykernel_56776\\1359625343.py:4: DtypeWarning: Columns (10) have mixed types. Specify dtype option on import or set low_memory=False.\n",
      "  training_data= pd.read_csv('new1.csv')\n"
     ]
    }
   ],
   "source": [
    "# Load dataset \n",
    "# Select features (X) and target variable (y)\n",
    "testing_data=pd.read_csv('testing_data.csv')\n",
    "training_data= pd.read_csv('new1.csv')\n",
    "# Training data\n",
    "X_train = training_data[['co', 'no2', 'o3', 'pm10', 'pm25', 'so2']]  # Features for training\n",
    "y_train = training_data['aqi']  # Target variable (AQI) for training\n",
    "\n",
    "# Testing data\n",
    "X_test = testing_data[['co', 'no2', 'o3', 'pm10', 'pm25', 'so2']]  # Features for testing\n",
    "y_test = testing_data['aqi']  # Target variable (AQI) for testing"
   ]
  },
  {
   "cell_type": "code",
   "execution_count": 3,
   "id": "7ac9dccb-ec80-4efa-8754-a60c7c4d9091",
   "metadata": {},
   "outputs": [],
   "source": [
    "# Initialize the SVM classifier (you can change kernel types like 'linear', 'poly', 'rbf', etc.)\n",
    "svr_model = SVR(kernel='rbf')  # 'rbf' is commonly used for regression tasks"
   ]
  },
  {
   "cell_type": "code",
   "execution_count": null,
   "id": "b191c167-5f8b-419c-a8e9-558f7c15a7be",
   "metadata": {},
   "outputs": [],
   "source": [
    "# Train the SVR model\n",
    "svr_model.fit(X_train, y_train)\n",
    "\n",
    "# Make predictions on the test set\n",
    "y_pred_svr = svr_model.predict(X_test)"
   ]
  },
  {
   "cell_type": "code",
   "execution_count": null,
   "id": "cc0fd55f-4710-4634-8eb1-5715b2b56497",
   "metadata": {},
   "outputs": [],
   "source": [
    "# Calculate regression performance metrics\n",
    "mse = mean_squared_error(y_test, y_pred_svr)\n",
    "mae = mean_absolute_error(y_test, y_pred_svr)\n",
    "r2 = r2_score(y_test, y_pred_svr)"
   ]
  },
  {
   "cell_type": "code",
   "execution_count": null,
   "id": "d9c52508-bc3d-4adf-a14c-37b4ea10932c",
   "metadata": {},
   "outputs": [],
   "source": [
    "# Print regression performance metrics\n",
    "print(f'Mean Squared Error (MSE): {mse}')\n",
    "print(f'Mean Absolute Error (MAE): {mae}')\n",
    "print(f'R-squared (R²): {r2}')"
   ]
  },
  {
   "cell_type": "code",
   "execution_count": null,
   "id": "2857cf1f-4fe5-47ef-bace-312b05fa7e4a",
   "metadata": {},
   "outputs": [],
   "source": [
    "# Plot the actual vs predicted values\n",
    "plt.figure(figsize=(8, 6))\n",
    "plt.scatter(y_test, y_pred_svr, color='blue', label='Predictions')\n",
    "plt.plot([y.min(), y.max()], [y.min(), y.max()], color='red', lw=2, label='Perfect Prediction Line')\n",
    "plt.xlabel('Actual Values')\n",
    "plt.ylabel('Predicted Values')\n",
    "plt.title('Support Vector Regressor: Actual vs Predicted')\n",
    "plt.legend()\n",
    "plt.show()"
   ]
  },
  {
   "cell_type": "code",
   "execution_count": null,
   "id": "bb407de1-a015-4c37-be95-82f4e1d155c0",
   "metadata": {},
   "outputs": [],
   "source": [
    "# Plotting Actual vs Predicted AQI for Support Vector Machine Regressor\n",
    "plt.figure(figsize=(6, 3))\n",
    "plt.plot(y_test.values[:100], label='Actual AQI', color='blue')\n",
    "plt.plot(y_pred_svr[:100], label='Predicted AQI', linestyle='--', color='orange')\n",
    "plt.title('Actual vs Predicted AQI')\n",
    "plt.xlabel('Samples')\n",
    "plt.ylabel('AQI')\n",
    "plt.legend()\n",
    "plt.grid()\n",
    "plt.show()"
   ]
  },
  {
   "cell_type": "code",
   "execution_count": null,
   "id": "f02ec85d-9d67-40d1-9f74-ad65ed57d1ed",
   "metadata": {},
   "outputs": [],
   "source": []
  }
 ],
 "metadata": {
  "kernelspec": {
   "display_name": "Python 3 (ipykernel)",
   "language": "python",
   "name": "python3"
  },
  "language_info": {
   "codemirror_mode": {
    "name": "ipython",
    "version": 3
   },
   "file_extension": ".py",
   "mimetype": "text/x-python",
   "name": "python",
   "nbconvert_exporter": "python",
   "pygments_lexer": "ipython3",
   "version": "3.11.9"
  }
 },
 "nbformat": 4,
 "nbformat_minor": 5
}
