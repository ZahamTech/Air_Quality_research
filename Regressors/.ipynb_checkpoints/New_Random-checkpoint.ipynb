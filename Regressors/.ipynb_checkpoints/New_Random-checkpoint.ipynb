{
 "cells": [
  {
   "cell_type": "markdown",
   "id": "1d1f7bcc-9c5e-430b-93c5-68517061d442",
   "metadata": {},
   "source": [
    "\n",
    "### Random new"
   ]
  },
  {
   "cell_type": "code",
   "execution_count": 1,
   "id": "3d2dbc08-3e17-4eae-bc7b-1d2ccbc9e358",
   "metadata": {},
   "outputs": [],
   "source": [
    "# Import necessary libraries\n",
    "import pandas as pd\n",
    "from sklearn.ensemble import RandomForestRegressor\n",
    "from sklearn.metrics import mean_squared_error, mean_absolute_error, r2_score"
   ]
  },
  {
   "cell_type": "code",
   "execution_count": 17,
   "id": "cdaf7298-8745-4dd0-bc8e-291f7c9b22a5",
   "metadata": {},
   "outputs": [],
   "source": [
    "df1= pd.read_csv('data_using2.csv')\n",
    "testing_data = df1.sample(n=15000, random_state=32)\n",
    "training_data= pd.read_csv('new3.csv')"
   ]
  },
  {
   "cell_type": "code",
   "execution_count": 18,
   "id": "683ed98e-a97d-45b7-8f67-da166da9e437",
   "metadata": {},
   "outputs": [],
   "source": [
    "# Training data\n",
    "X_train = training_data[['co', 'no2', 'o3', 'pm10', 'pm25', 'so2']]  # Features for training\n",
    "y_train = training_data['aqi']  # Target variable (AQI) for training\n",
    "\n",
    "# Testing data\n",
    "X_test = testing_data[['co', 'no2', 'o3', 'pm10', 'pm25', 'so2']]  # Features for testing\n",
    "y_test = testing_data['aqi']  # Target variable (AQI) for testing\n",
    "\n"
   ]
  },
  {
   "cell_type": "code",
   "execution_count": 4,
   "id": "d65be8f5-b60a-448d-bdbe-fafcec683623",
   "metadata": {},
   "outputs": [],
   "source": [
    "# Initialize the RandomForestRegressor model\n",
    "rf_model = RandomForestRegressor(n_estimators=100, random_state=42)\n",
    "\n",
    "# Train the model on the training data\n",
    "rf_model.fit(X_train, y_train)\n",
    "\n"
   ]
  },
  {
   "cell_type": "code",
   "execution_count": 19,
   "id": "d2437c98-36e9-4199-958a-aff7c8d76637",
   "metadata": {},
   "outputs": [],
   "source": [
    "\n",
    "# Predict on the test set\n",
    "y_pred = rf_model.predict(X_test)\n"
   ]
  },
  {
   "cell_type": "code",
   "execution_count": 20,
   "id": "b2f7597b-0ce4-4a30-a4a5-f8b7442c724b",
   "metadata": {},
   "outputs": [
    {
     "name": "stdout",
     "output_type": "stream",
     "text": [
      "Mean Squared Error (MSE): 142.6464547252938\n",
      "Mean Absolute Error (MAE): 1.1250542555389718\n"
     ]
    }
   ],
   "source": [
    "# Evaluate the model\n",
    "mse = mean_squared_error(y_test, y_pred)\n",
    "mae = mean_absolute_error(y_test, y_pred)\n",
    "r2 = r2_score(y_test, y_pred)\n",
    "\n",
    "# Print performance metrics\n",
    "print(f\"Mean Squared Error (MSE): {mse}\")\n",
    "print(f\"Mean Absolute Error (MAE): {mae}\")"
   ]
  },
  {
   "cell_type": "code",
   "execution_count": 21,
   "id": "e840cd70-a18e-4afe-85bf-3f32230415fb",
   "metadata": {},
   "outputs": [
    {
     "data": {
      "text/plain": [
       "0.9513063753319654"
      ]
     },
     "execution_count": 21,
     "metadata": {},
     "output_type": "execute_result"
    }
   ],
   "source": [
    "r2"
   ]
  },
  {
   "cell_type": "code",
   "execution_count": null,
   "id": "46f14787-bc4c-4566-8bda-7b7775d49f54",
   "metadata": {},
   "outputs": [],
   "source": []
  }
 ],
 "metadata": {
  "kernelspec": {
   "display_name": "Python 3 (ipykernel)",
   "language": "python",
   "name": "python3"
  },
  "language_info": {
   "codemirror_mode": {
    "name": "ipython",
    "version": 3
   },
   "file_extension": ".py",
   "mimetype": "text/x-python",
   "name": "python",
   "nbconvert_exporter": "python",
   "pygments_lexer": "ipython3",
   "version": "3.11.9"
  }
 },
 "nbformat": 4,
 "nbformat_minor": 5
}
